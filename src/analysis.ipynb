{
 "cells": [
  {
   "cell_type": "code",
   "execution_count": 90,
   "metadata": {},
   "outputs": [
    {
     "data": {
      "text/plain": [
       "(1682, 6)"
      ]
     },
     "execution_count": 90,
     "metadata": {},
     "output_type": "execute_result"
    }
   ],
   "source": [
    "import pandas as pd\n",
    "\n",
    "df = pd.read_csv('dataset/in.tsv', sep='\\t')\n",
    "df.columns = [\"file_name\", \"list_keys\", \"pdf2djvu/djvu2hocr\", \"tesseract\", \"textract\", \"pdf2djvu/djvu2hocr_tesseract\"]\n",
    "df = df.dropna(axis = 0)\n",
    "df.head()\n",
    "df.shape"
   ]
  },
  {
   "cell_type": "code",
   "execution_count": 87,
   "metadata": {},
   "outputs": [
    {
     "name": "stderr",
     "output_type": "stream",
     "text": [
      "Done! Use 'show' commands to display/save.   |██████████| [100%]   00:00 -> (00:00 left)\n"
     ]
    }
   ],
   "source": [
    "import sweetviz as sv\n",
    "\n",
    "my_report = sv.analyze(df)\n",
    "# my_report.show_html() # Default arguments will generate to \"SWEETVIZ_REPORT.html\""
   ]
  },
  {
   "cell_type": "code",
   "execution_count": null,
   "metadata": {},
   "outputs": [],
   "source": [
    "# import spacy\n",
    "\n",
    "# # Load English tokenizer, tagger, parser and NER\n",
    "# nlp = spacy.load(\"en_core_web_sm\")\n",
    "\n",
    "# # Process whole documents\n",
    "# text = (df[\"tesseract\"][1])\n",
    "# doc = nlp(text)\n",
    "\n",
    "# document = [sent.orth_ for sent in doc.sents]\n",
    "\n"
   ]
  },
  {
   "cell_type": "code",
   "execution_count": 91,
   "metadata": {},
   "outputs": [],
   "source": [
    "document = df[\"tesseract\"].values.tolist()"
   ]
  },
  {
   "cell_type": "code",
   "execution_count": 92,
   "metadata": {},
   "outputs": [
    {
     "name": "stdout",
     "output_type": "stream",
     "text": [
      "Cluster 0:\n",
      " college\n",
      " school\n",
      " governors\n",
      " nthe\n",
      " year\n",
      " pupils\n",
      " 000\n",
      " financial\n",
      " august\n",
      " funds\n",
      "Cluster 1:\n",
      " year\n",
      " nthe\n",
      " charity\n",
      " church\n",
      " trustees\n",
      " funds\n",
      " accounts\n",
      " financial\n",
      " report\n",
      " trust\n",
      "Cluster 2:\n",
      " financial\n",
      " nthe\n",
      " year\n",
      " charity\n",
      " trustees\n",
      " funds\n",
      " statements\n",
      " company\n",
      " 31\n",
      " ended\n",
      "Cluster 3:\n",
      " 000\n",
      " nthe\n",
      " year\n",
      " financial\n",
      " company\n",
      " 31\n",
      " march\n",
      " statements\n",
      " charity\n",
      " funds\n",
      "Cluster 4:\n",
      " optional\n",
      " charity\n",
      " nearest\n",
      " nsection\n",
      " trustees\n",
      " ntar\n",
      " funds\n",
      " nadditional\n",
      " ne\n",
      " information\n",
      "Cluster 5:\n",
      " 00\n",
      " year\n",
      " charity\n",
      " nthe\n",
      " trustees\n",
      " accounts\n",
      " church\n",
      " n0\n",
      " club\n",
      " 2017\n"
     ]
    }
   ],
   "source": [
    "from sklearn.feature_extraction.text import TfidfVectorizer\n",
    "from sklearn.cluster import KMeans\n",
    "import numpy as np\n",
    "import pandas as pd\n",
    "\n",
    "vectorizer = TfidfVectorizer(stop_words='english')\n",
    "X = vectorizer.fit_transform(document)\n",
    "\n",
    "true_k = 6\n",
    "model = KMeans(n_clusters=true_k, init='k-means++', max_iter=100, n_init=1)\n",
    "model.fit(X)\n",
    "\n",
    "order_centroids = model.cluster_centers_.argsort()[:, ::-1]\n",
    "terms = vectorizer.get_feature_names()\n",
    "\n",
    "for i in range(true_k):\n",
    "    print(\"Cluster %d:\" % i),\n",
    "    for ind in order_centroids[i, :10]:\n",
    "        print(' %s' % terms[ind])"
   ]
  }
 ],
 "metadata": {
  "interpreter": {
   "hash": "f3ed759d09bb9815abaab617d9431de433c0be0de2b9701c8b4019cb696b6853"
  },
  "kernelspec": {
   "display_name": "Python 3.8.10 64-bit ('dev-becode': virtualenvwrapper)",
   "name": "python3"
  },
  "language_info": {
   "codemirror_mode": {
    "name": "ipython",
    "version": 3
   },
   "file_extension": ".py",
   "mimetype": "text/x-python",
   "name": "python",
   "nbconvert_exporter": "python",
   "pygments_lexer": "ipython3",
   "version": "3.8.10"
  },
  "orig_nbformat": 4
 },
 "nbformat": 4,
 "nbformat_minor": 2
}